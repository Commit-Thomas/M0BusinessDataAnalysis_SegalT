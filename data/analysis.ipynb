{
 "cells": [
  {
   "cell_type": "code",
   "execution_count": 46,
   "id": "59adc649",
   "metadata": {},
   "outputs": [
    {
     "name": "stdout",
     "output_type": "stream",
     "text": [
      "Header: ['artist', 'song', 'duration_ms', 'explicit', 'year', 'popularity', 'danceability', 'energy', 'key', 'loudness', 'mode', 'speechiness', 'acousticness', 'instrumentalness', 'liveness', 'valence', 'tempo', 'genre']\n",
      "\n",
      "First 5 rows:\n",
      "['Britney Spears', 'Oops!...I Did It Again', '211160', 'False', '2000', '77', '0.751', '0.834', '1', '-5.444', '0', '0.0437', '0.3', '1.77e-05', '0.355', '0.894', '95.053', 'pop']\n",
      "['blink-182', 'All The Small Things', '167066', 'False', '1999', '79', '0.434', '0.897', '0', '-4.918', '1', '0.0488', '0.0103', '0.0', '0.612', '0.684', '148.726', 'rock, pop']\n",
      "['Faith Hill', 'Breathe', '250546', 'False', '1999', '66', '0.529', '0.496', '7', '-9.007', '1', '0.029', '0.173', '0.0', '0.251', '0.278', '136.859', 'pop, country']\n",
      "['Bon Jovi', \"It's My Life\", '224493', 'False', '2000', '78', '0.551', '0.913', '0', '-4.063', '0', '0.0466', '0.0263', '1.35e-05', '0.347', '0.544', '119.992', 'rock, metal']\n",
      "['*NSYNC', 'Bye Bye Bye', '200560', 'False', '2000', '65', '0.614', '0.928', '8', '-4.806', '0', '0.0516', '0.0408', '0.00104', '0.0845', '0.879', '172.656', 'pop']\n"
     ]
    }
   ],
   "source": [
    "import csv\n",
    "\n",
    "with open('songs_normalize.csv', newline='', encoding='utf-8') as csvfile:\n",
    "    reader = csv.reader(csvfile)\n",
    "\n",
    "    # Convert reader to a list of rows\n",
    "    data = list(reader)\n",
    "\n",
    "    # Print header\n",
    "    print(\"Header:\", data[0])\n",
    "\n",
    "    # Print the first 5 rows\n",
    "    print(\"\\nFirst 5 rows:\")\n",
    "    for row in data[1:6]:\n",
    "        print(row)"
   ]
  },
  {
   "cell_type": "code",
   "execution_count": null,
   "id": "57780821",
   "metadata": {},
   "outputs": [
    {
     "name": "stdout",
     "output_type": "stream",
     "text": [
      "Column Data Types:\n",
      "artist               object\n",
      "song                 object\n",
      "duration_ms           int64\n",
      "explicit               bool\n",
      "year                  int64\n",
      "popularity            int64\n",
      "danceability        float64\n",
      "energy              float64\n",
      "key                   int64\n",
      "loudness            float64\n",
      "mode                  int64\n",
      "speechiness         float64\n",
      "acousticness        float64\n",
      "instrumentalness    float64\n",
      "liveness            float64\n",
      "valence             float64\n",
      "tempo               float64\n",
      "genre                object\n",
      "dtype: object\n"
     ]
    }
   ],
   "source": [
    "import pandas as pd\n",
    "\n",
    "# Load the CSV file with pandas\n",
    "df = pd.read_csv('songs_normalize.csv')\n",
    "\n",
    "# View column data types\n",
    "print(\"Column Data Types:\")\n",
    "print(df.dtypes)"
   ]
  },
  {
   "cell_type": "code",
   "execution_count": 40,
   "id": "fc06d892",
   "metadata": {},
   "outputs": [
    {
     "name": "stdout",
     "output_type": "stream",
     "text": [
      "           artist                    song  duration_ms  explicit  year  \\\n",
      "0  Britney Spears  Oops!...I Did It Again       211160     False  2000   \n",
      "1       blink-182    All The Small Things       167066     False  1999   \n",
      "2      Faith Hill                 Breathe       250546     False  1999   \n",
      "3        Bon Jovi            It's My Life       224493     False  2000   \n",
      "4          *NSYNC             Bye Bye Bye       200560     False  2000   \n",
      "\n",
      "   popularity  danceability  energy  key  loudness  mode  speechiness  \\\n",
      "0          77         0.751   0.834    1    -5.444     0       0.0437   \n",
      "1          79         0.434   0.897    0    -4.918     1       0.0488   \n",
      "2          66         0.529   0.496    7    -9.007     1       0.0290   \n",
      "3          78         0.551   0.913    0    -4.063     0       0.0466   \n",
      "4          65         0.614   0.928    8    -4.806     0       0.0516   \n",
      "\n",
      "   acousticness  instrumentalness  liveness  valence    tempo         genre  \n",
      "0        0.3000          0.000018    0.3550    0.894   95.053           pop  \n",
      "1        0.0103          0.000000    0.6120    0.684  148.726     rock, pop  \n",
      "2        0.1730          0.000000    0.2510    0.278  136.859  pop, country  \n",
      "3        0.0263          0.000013    0.3470    0.544  119.992   rock, metal  \n",
      "4        0.0408          0.001040    0.0845    0.879  172.656           pop  \n"
     ]
    }
   ],
   "source": [
    "print(df.head())"
   ]
  },
  {
   "cell_type": "code",
   "execution_count": 25,
   "id": "c4d0674e",
   "metadata": {},
   "outputs": [],
   "source": [
    "spotifyData = df[['song','liveness','genre']]\n"
   ]
  },
  {
   "cell_type": "code",
   "execution_count": null,
   "id": "4d2089f3",
   "metadata": {},
   "outputs": [
    {
     "data": {
      "text/plain": [
       "['pop',\n",
       " 'rock, pop',\n",
       " 'pop, country',\n",
       " 'rock, metal',\n",
       " 'hip hop, pop, R&B',\n",
       " 'hip hop',\n",
       " 'pop, rock',\n",
       " 'pop, R&B',\n",
       " 'Dance/Electronic',\n",
       " 'pop, Dance/Electronic',\n",
       " 'rock, Folk/Acoustic, easy listening',\n",
       " 'metal',\n",
       " 'hip hop, pop',\n",
       " 'R&B',\n",
       " 'pop, latin',\n",
       " 'Folk/Acoustic, rock',\n",
       " 'pop, easy listening, Dance/Electronic',\n",
       " 'rock',\n",
       " 'rock, blues, latin',\n",
       " 'pop, rock, metal',\n",
       " 'rock, pop, metal',\n",
       " 'hip hop, R&B',\n",
       " 'pop, Folk/Acoustic',\n",
       " 'set()',\n",
       " 'hip hop, pop, latin',\n",
       " 'hip hop, Dance/Electronic',\n",
       " 'hip hop, pop, rock',\n",
       " 'World/Traditional, Folk/Acoustic',\n",
       " 'Folk/Acoustic, pop',\n",
       " 'rock, easy listening',\n",
       " 'World/Traditional, hip hop',\n",
       " 'hip hop, pop, R&B, latin',\n",
       " 'rock, blues',\n",
       " 'rock, R&B, Folk/Acoustic, pop',\n",
       " 'latin',\n",
       " 'pop, R&B, Dance/Electronic',\n",
       " 'World/Traditional, rock',\n",
       " 'pop, rock, Dance/Electronic',\n",
       " 'pop, easy listening, jazz',\n",
       " 'rock, Dance/Electronic',\n",
       " 'World/Traditional, pop, Folk/Acoustic',\n",
       " 'country',\n",
       " 'hip hop, pop, Dance/Electronic',\n",
       " 'hip hop, pop, country',\n",
       " 'World/Traditional, rock, pop',\n",
       " 'World/Traditional, pop',\n",
       " 'hip hop, pop, R&B, Dance/Electronic',\n",
       " 'pop, R&B, easy listening',\n",
       " 'rock, pop, Dance/Electronic',\n",
       " 'Folk/Acoustic, rock, pop',\n",
       " 'rock, pop, metal, Dance/Electronic',\n",
       " 'pop, rock, Folk/Acoustic',\n",
       " 'country, latin',\n",
       " 'rock, classical',\n",
       " 'rock, Folk/Acoustic, pop',\n",
       " 'hip hop, rock, pop',\n",
       " 'easy listening',\n",
       " 'hip hop, latin, Dance/Electronic',\n",
       " 'hip hop, country']"
      ]
     },
     "execution_count": 37,
     "metadata": {},
     "output_type": "execute_result"
    }
   ],
   "source": [
    "\n",
    "genres = df['genre'].unique()\n",
    "genres.tolist()"
   ]
  },
  {
   "cell_type": "code",
   "execution_count": 39,
   "id": "03fe3f38",
   "metadata": {},
   "outputs": [
    {
     "data": {
      "text/plain": [
       "numpy.ndarray"
      ]
     },
     "execution_count": 39,
     "metadata": {},
     "output_type": "execute_result"
    }
   ],
   "source": [
    "type(genres)"
   ]
  },
  {
   "cell_type": "code",
   "execution_count": 42,
   "id": "32f601af",
   "metadata": {},
   "outputs": [
    {
     "name": "stdout",
     "output_type": "stream",
     "text": [
      "genre\n",
      "Dance/Electronic                         0.183137\n",
      "Folk/Acoustic, pop                       0.138500\n",
      "Folk/Acoustic, rock                      0.560000\n",
      "Folk/Acoustic, rock, pop                 0.087300\n",
      "R&B                                      0.158254\n",
      "World/Traditional, Folk/Acoustic         0.112000\n",
      "World/Traditional, hip hop               0.127000\n",
      "World/Traditional, pop                   0.606000\n",
      "World/Traditional, pop, Folk/Acoustic    0.226000\n",
      "World/Traditional, rock                  0.126000\n",
      "World/Traditional, rock, pop             0.134050\n",
      "country                                  0.164260\n",
      "country, latin                           0.853000\n",
      "easy listening                           0.072500\n",
      "hip hop                                  0.202195\n",
      "hip hop, Dance/Electronic                0.117750\n",
      "hip hop, R&B                             0.126300\n",
      "hip hop, country                         0.274000\n",
      "hip hop, latin, Dance/Electronic         0.074500\n",
      "hip hop, pop                             0.197203\n",
      "hip hop, pop, Dance/Electronic           0.209542\n",
      "hip hop, pop, R&B                        0.165859\n",
      "hip hop, pop, R&B, Dance/Electronic      0.095667\n",
      "hip hop, pop, R&B, latin                 0.088400\n",
      "hip hop, pop, country                    0.083100\n",
      "hip hop, pop, latin                      0.269257\n",
      "hip hop, pop, rock                       0.189500\n",
      "hip hop, rock, pop                       0.229000\n",
      "latin                                    0.151693\n",
      "metal                                    0.213056\n",
      "pop                                      0.170220\n",
      "pop, Dance/Electronic                    0.183949\n",
      "pop, Folk/Acoustic                       0.210000\n",
      "pop, R&B                                 0.160049\n",
      "pop, R&B, Dance/Electronic               0.175950\n",
      "pop, R&B, easy listening                 0.072000\n",
      "pop, country                             0.129637\n",
      "pop, easy listening, Dance/Electronic    0.347000\n",
      "pop, easy listening, jazz                0.109950\n",
      "pop, latin                               0.174143\n",
      "pop, rock                                0.249635\n",
      "pop, rock, Dance/Electronic              0.161446\n",
      "pop, rock, Folk/Acoustic                 0.153500\n",
      "pop, rock, metal                         0.167086\n",
      "rock                                     0.195516\n",
      "rock, Dance/Electronic                   0.084000\n",
      "rock, Folk/Acoustic, easy listening      0.104000\n",
      "rock, Folk/Acoustic, pop                 0.113000\n",
      "rock, R&B, Folk/Acoustic, pop            0.085900\n",
      "rock, blues                              0.208000\n",
      "rock, blues, latin                       0.134400\n",
      "rock, classical                          0.083700\n",
      "rock, easy listening                     0.133000\n",
      "rock, metal                              0.202821\n",
      "rock, pop                                0.217402\n",
      "rock, pop, Dance/Electronic              0.142462\n",
      "rock, pop, metal                         0.145900\n",
      "rock, pop, metal, Dance/Electronic       0.065800\n",
      "set()                                    0.161527\n",
      "Name: liveness, dtype: float64\n"
     ]
    }
   ],
   "source": [
    "average_liveness_by_genre = spotifyData.groupby('genre')['liveness'].mean()\n",
    "\n",
    "print(average_liveness_by_genre)"
   ]
  },
  {
   "cell_type": "code",
   "execution_count": 43,
   "id": "672e5cea",
   "metadata": {},
   "outputs": [
    {
     "name": "stdout",
     "output_type": "stream",
     "text": [
      "Top 5 genres with highest average liveness:\n",
      "genre\n",
      "country, latin                           0.853\n",
      "World/Traditional, pop                   0.606\n",
      "Folk/Acoustic, rock                      0.560\n",
      "pop, easy listening, Dance/Electronic    0.347\n",
      "hip hop, country                         0.274\n",
      "Name: liveness, dtype: float64\n"
     ]
    }
   ],
   "source": [
    "top_5_genres = average_liveness_by_genre.sort_values(ascending=False).head(5)\n",
    "\n",
    "print(\"Top 5 genres with highest average liveness:\")\n",
    "print(top_5_genres)"
   ]
  }
 ],
 "metadata": {
  "kernelspec": {
   "display_name": "data-analysis-env",
   "language": "python",
   "name": "python3"
  },
  "language_info": {
   "codemirror_mode": {
    "name": "ipython",
    "version": 3
   },
   "file_extension": ".py",
   "mimetype": "text/x-python",
   "name": "python",
   "nbconvert_exporter": "python",
   "pygments_lexer": "ipython3",
   "version": "3.9.22"
  }
 },
 "nbformat": 4,
 "nbformat_minor": 5
}
